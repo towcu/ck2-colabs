
# CK2 Transkript Panel v2 - Sade TXT Odaklı Sürüm

import gradio as gr
import whisper
import os

model = whisper.load_model("base")

def transcribe(audio):
    if audio is None:
        return None
    result = model.transcribe(audio)
    # Kaydedilen dosya adı
    output_path = "transkript.txt"
    with open(output_path, "w", encoding="utf-8") as f:
        f.write(result["text"])
    return output_path

with gr.Blocks() as demo:
    gr.Markdown("## CK2 Transkript Paneli v2\nYalnızca MP3 dosyanızı yükleyin ve TXT çıktısını indirin.")
    audio_input = gr.Audio(type="filepath", label="MP3 Dosyanızı Yükleyin")
    transcribe_btn = gr.Button("Dönüştür ve TXT Olarak Kaydet")
    txt_output = gr.File(label="Transkript (.txt)")

    transcribe_btn.click(fn=transcribe, inputs=audio_input, outputs=txt_output)

demo.launch()
