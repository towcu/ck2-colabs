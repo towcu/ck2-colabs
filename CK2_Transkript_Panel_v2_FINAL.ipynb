{
 "cells": [
  {
   "cell_type": "markdown",
   "id": "b68e65f8",
   "metadata": {},
   "source": [
    "# CK2 Transkript Paneli v2\n",
    "MP3 dosyanızı yükleyin, transkripte çevirin ve TXT olarak indirin."
   ]
  },
  {
   "cell_type": "code",
   "execution_count": null,
   "id": "ad3dd8af",
   "metadata": {},
   "outputs": [],
   "source": [
    "# Gerekli kütüphaneleri yükleyelim\n",
    "!pip install -q gradio\n",
    "!pip install -q openai-whisper\n"
   ]
  },
  {
   "cell_type": "code",
   "execution_count": null,
   "id": "24d59b1f",
   "metadata": {},
   "outputs": [],
   "source": [
    "import gradio as gr\n",
    "import whisper\n",
    "import os\n",
    "\n",
    "# Whisper modelini yükle\n",
    "model = whisper.load_model(\"base\")\n",
    "\n",
    "def transcribe(audio):\n",
    "    if audio is None:\n",
    "        return None\n",
    "    result = model.transcribe(audio)\n",
    "    output_path = \"transkript.txt\"\n",
    "    with open(output_path, \"w\", encoding=\"utf-8\") as f:\n",
    "        f.write(result[\"text\"])\n",
    "    return output_path\n"
   ]
  },
  {
   "cell_type": "code",
   "execution_count": null,
   "id": "80c25577",
   "metadata": {},
   "outputs": [],
   "source": [
    "# Gradio arayüzü\n",
    "with gr.Blocks() as demo:\n",
    "    gr.Markdown(\"## MP3 Yükleyin ve TXT Olarak İndirin\")\n",
    "    audio_input = gr.Audio(type=\"filepath\", label=\"MP3 Dosyanızı Yükleyin\")\n",
    "    transcribe_btn = gr.Button(\"Dönüştür ve TXT Olarak Kaydet\")\n",
    "    txt_output = gr.File(label=\"Transkript (.txt)\")\n",
    "    transcribe_btn.click(fn=transcribe, inputs=audio_input, outputs=txt_output)\n",
    "    demo.launch()\n"
   ]
  }
 ],
 "metadata": {},
 "nbformat": 4,
 "nbformat_minor": 5
}
