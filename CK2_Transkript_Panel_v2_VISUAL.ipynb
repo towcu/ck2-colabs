{
 "cells": [
  {
   "cell_type": "markdown",
   "id": "cb0be0d6",
   "metadata": {},
   "source": [
    "# CK2 Transkript Paneli v2 (Görsel İyileştirilmiş)\n",
    "Bu panel MP3 dosyanızı transkripte çevirir ve TXT çıktısı sunar. Görsel düzenlemeler yapılmıştır."
   ]
  },
  {
   "cell_type": "code",
   "execution_count": null,
   "id": "b7028cd5",
   "metadata": {},
   "outputs": [],
   "source": [
    "# Gerekli kütüphanelerin yüklenmesi\n",
    "!pip install -q gradio\n",
    "!pip install -q openai-whisper\n"
   ]
  },
  {
   "cell_type": "code",
   "execution_count": null,
   "id": "fd05dbfd",
   "metadata": {},
   "outputs": [],
   "source": [
    "import gradio as gr\n",
    "import whisper\n",
    "import os\n",
    "\n",
    "# Whisper modeli yükleniyor\n",
    "model = whisper.load_model(\"base\")\n",
    "\n",
    "def transcribe(audio):\n",
    "    if audio is None:\n",
    "        return None\n",
    "    result = model.transcribe(audio)\n",
    "    output_path = \"transkript.txt\"\n",
    "    with open(output_path, \"w\", encoding=\"utf-8\") as f:\n",
    "        f.write(result[\"text\"])\n",
    "    return output_path\n"
   ]
  },
  {
   "cell_type": "code",
   "execution_count": null,
   "id": "dbb01707",
   "metadata": {},
   "outputs": [],
   "source": [
    "# Gradio arayüzü (görsel olarak büyütülmüş ve vurgulu elemanlarla)\n",
    "with gr.Blocks() as demo:\n",
    "    gr.Markdown(\"## 🎧 MP3 Yükleyin, Dönüştürün ve TXT Olarak İndirin\", elem_classes=\"title\")\n",
    "\n",
    "    with gr.Row():\n",
    "        audio_input = gr.Audio(type=\"filepath\", label=\"🎵 MP3 Dosyanızı Seçin\", interactive=True, elem_id=\"audio-uploader\", elem_classes=\"button-large\")\n",
    "\n",
    "    transcribe_btn = gr.Button(\"🚀 Dönüştür ve TXT Olarak Kaydet\", elem_id=\"convert-button\", elem_classes=\"button-highlight\")\n",
    "    txt_output = gr.File(label=\"📄 İndirilebilir Transkript (.txt)\", elem_id=\"txt-output\", elem_classes=\"download-large\")\n",
    "\n",
    "    transcribe_btn.click(fn=transcribe, inputs=audio_input, outputs=txt_output)\n",
    "\n",
    "    # CSS eklemeleri\n",
    "    demo.load(None, None, None).style(css=\"\"\"\n",
    "        #audio-uploader, #convert-button, #txt-output {\n",
    "            font-size: 18px;\n",
    "            padding: 14px;\n",
    "        }\n",
    "        #audio-uploader {\n",
    "            background-color: #f0f0f0;\n",
    "            border: 2px solid #999;\n",
    "        }\n",
    "        #convert-button {\n",
    "            background-color: #4CAF50;\n",
    "            color: white;\n",
    "            font-weight: bold;\n",
    "            border-radius: 10px;\n",
    "        }\n",
    "        #txt-output {\n",
    "            background-color: #e6f7ff;\n",
    "            border: 2px dashed #00aaff;\n",
    "        }\n",
    "    \"\"\")\n",
    "    demo.launch()\n"
   ]
  }
 ],
 "metadata": {},
 "nbformat": 4,
 "nbformat_minor": 5
}
