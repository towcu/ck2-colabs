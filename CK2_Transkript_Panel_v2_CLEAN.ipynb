{
 "cells": [
  {
   "cell_type": "markdown",
   "id": "82801bfb",
   "metadata": {},
   "source": [
    "# CK2 Transkript Paneli v2 (Temizlenmiş Görsel Sürüm)\n",
    "MP3 dosyanızı yükleyin, transkripte çevirin ve TXT çıktısı alın."
   ]
  },
  {
   "cell_type": "code",
   "execution_count": null,
   "id": "30ec10e7",
   "metadata": {},
   "outputs": [],
   "source": [
    "# Gerekli kütüphanelerin yüklenmesi\n",
    "!pip install -q gradio\n",
    "!pip install -q openai-whisper\n"
   ]
  },
  {
   "cell_type": "code",
   "execution_count": null,
   "id": "c912bf95",
   "metadata": {},
   "outputs": [],
   "source": [
    "import gradio as gr\n",
    "import whisper\n",
    "import os\n",
    "\n",
    "# Whisper modeli yükleniyor\n",
    "model = whisper.load_model(\"base\")\n",
    "\n",
    "def transcribe(audio):\n",
    "    if audio is None:\n",
    "        return None\n",
    "    result = model.transcribe(audio)\n",
    "    output_path = \"transkript.txt\"\n",
    "    with open(output_path, \"w\", encoding=\"utf-8\") as f:\n",
    "        f.write(result[\"text\"])\n",
    "    return output_path\n"
   ]
  },
  {
   "cell_type": "code",
   "execution_count": null,
   "id": "c8038924",
   "metadata": {},
   "outputs": [],
   "source": [
    "# Gradio arayüzü (sadeleştirilmiş, hata vermeyen sürüm)\n",
    "with gr.Blocks() as demo:\n",
    "    gr.Markdown(\"## 🎧 MP3 Yükleyin, Dönüştürün ve TXT Olarak İndirin\")\n",
    "\n",
    "    with gr.Row():\n",
    "        audio_input = gr.Audio(type=\"filepath\", label=\"🎵 MP3 Dosyanızı Seçin\", interactive=True)\n",
    "\n",
    "    transcribe_btn = gr.Button(\"🚀 Dönüştür ve TXT Olarak Kaydet\")\n",
    "    txt_output = gr.File(label=\"📄 İndirilebilir Transkript (.txt)\")\n",
    "\n",
    "    transcribe_btn.click(fn=transcribe, inputs=audio_input, outputs=txt_output)\n",
    "\n",
    "    demo.launch()\n"
   ]
  }
 ],
 "metadata": {},
 "nbformat": 4,
 "nbformat_minor": 5
}
