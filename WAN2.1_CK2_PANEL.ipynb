
{
 "cells": [
  {
   "cell_type": "markdown",
   "metadata": {},
   "source": [
    "# WAN 2.1 CK2 Panel\n",
    "Bu panel, Levo için optimize edilmiş, Wan 2.1 tabanlı video üretim sistemini hızlıca başlatmak için tasarlanmıştır."
   ]
  },
  {
   "cell_type": "code",
   "execution_count": null,
   "metadata": {},
   "outputs": [],
   "source": [
    "# Gerekli kütüphanelerin kurulumu\n",
    "!pip install -q git+https://github.com/yourorg/wan-video-ai.git"
   ]
  },
  {
   "cell_type": "code",
   "execution_count": null,
   "metadata": {},
   "outputs": [],
   "source": [
    "# Sistem konfigürasyonu\n",
    "from wan import WAN21\n",
    "wan = WAN21(model='v2.1-base', device='cuda')"
   ]
  },
  {
   "cell_type": "markdown",
   "metadata": {},
   "source": [
    "## MP3 üzerinden sahne üretimi\n",
    "Aşağıda yüklediğiniz transkript metnine göre sahne oluşturabilirsiniz."
   ]
  },
  {
   "cell_type": "code",
   "execution_count": null,
   "metadata": {},
   "outputs": [],
   "source": [
    "# Transkript ile sahne üret\n",
    "transcript = '''WAN 2.1, görsel-işitsel üretimde çığır açıyor...'''\n",
    "wan.generate_scenes_from_text(transcript)"
   ]
  }
 ],
 "metadata": {
  "kernelspec": {
   "display_name": "Python 3",
   "language": "python",
   "name": "python3"
  },
  "language_info": {
   "name": "python",
   "version": "3.9"
  }
 },
 "nbformat": 4,
 "nbformat_minor": 5
}
